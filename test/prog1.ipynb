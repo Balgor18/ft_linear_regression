{
 "cells": [
  {
   "cell_type": "code",
   "execution_count": 24,
   "id": "6d3e65dc-726b-4522-aaf0-a0063c8318f8",
   "metadata": {},
   "outputs": [],
   "source": [
    "import pandas as pd\n",
    "\n",
    "data = pd.read_csv('data.csv', delimiter=',')\n",
    "\n",
    "# print(data)\n",
    "# estimatePrice(mileage) = θ0 + (θ1 ∗ mileage)\n",
    "\n",
    "# print(data['km'])\n",
    "# print(data['price'])"
   ]
  },
  {
   "cell_type": "code",
   "execution_count": 25,
   "id": "0d097a34-cafc-45ae-9d16-1e019b62e60a",
   "metadata": {},
   "outputs": [],
   "source": [
    "def estimatePrice(theta0, theta1, mileage):\n",
    "    return theta0 + (theta1 * mileage)\n"
   ]
  },
  {
   "cell_type": "code",
   "execution_count": 26,
   "id": "9213e235-3163-49ea-a0d1-eb6eec55265a",
   "metadata": {},
   "outputs": [],
   "source": [
    "# Cout\n",
    "def cost_function(X, y, theta):\n",
    "     m = len(y)\n",
    "     return 1/(2*m) * np.sum((model(X, theta) - y)**2)\n",
    "\n",
    "#Gradient\n",
    "def grad(X, y, theta):\n",
    "    m = len(y)\n",
    "    return 1/m * X.T.dot(model(X, theta) - y)\n",
    "\n",
    "\n",
    "def gradient_descent(X, y, theta, learn, n_iter):\n",
    "    for i in range (0, n_iter):\n",
    "        theta = theta - learn * grad(X, y, theta)\n",
    "    return theta\n",
    "\n"
   ]
  },
  {
   "cell_type": "code",
   "execution_count": 27,
   "id": "bf7e96d6-a80c-4978-869b-ff46749fc2b4",
   "metadata": {},
   "outputs": [],
   "source": [
    "import regression_lineaire.core as core\n",
    "import argparse\n",
    "\n",
    "class CarPrice:\n",
    "    def __init__(self):\n",
    "        self.theta0 = 0.0\n",
    "        self.theta1 = 0.0 \n",
    "        self.load_parameters() \n",
    "\n",
    "    def prediction(self, km):\n",
    "        return self.theta0 * km + self.theta1\n",
    "    \n",
    "    def train(self, dataset, visual = False):\n",
    "        self.theta0, self.theta1 = core.linear_regression(dataset, visual)\n",
    "        self.theta0 = self.theta0[0]\n",
    "        self.theta1 = self.theta1[0]\n",
    "        self.save_parameters(self.theta0, self.theta1)\n",
    "\n",
    "    def save_parameters(self, theta0, theta1):\n",
    "        with open('car_price_parameters.txt', 'w') as f:\n",
    "            print(\"a :\", theta0, \" b :\", theta1)\n",
    "            f.write(f\"{theta0},{theta1}\")\n",
    "\n",
    "    def load_parameters(self):\n",
    "        try:\n",
    "            with open('car_price_parameters.txt', 'r') as f:\n",
    "                params = f.read().split(',')\n",
    "                if len(params) != 2:\n",
    "                    return (print(\"Error: invalid parameter file.\"))\n",
    "                try:\n",
    "                    self.theta0 = float(params[0].strip())\n",
    "                    self.theta1 = float(params[1].strip())\n",
    "                except ValueError:\n",
    "                    print(\"Error: invalid value in parameter file.\")\n",
    "        except FileNotFoundError:\n",
    "            # le fichier n'existe pas encore, ne rien faire\n",
    "            pass"
   ]
  },
  {
   "cell_type": "code",
   "execution_count": null,
   "id": "c8b22ddf-2a08-46bc-9abf-e98eaacc9373",
   "metadata": {},
   "outputs": [],
   "source": []
  }
 ],
 "metadata": {
  "kernelspec": {
   "display_name": "Python 3 (ipykernel)",
   "language": "python",
   "name": "python3"
  },
  "language_info": {
   "codemirror_mode": {
    "name": "ipython",
    "version": 3
   },
   "file_extension": ".py",
   "mimetype": "text/x-python",
   "name": "python",
   "nbconvert_exporter": "python",
   "pygments_lexer": "ipython3",
   "version": "3.11.5"
  }
 },
 "nbformat": 4,
 "nbformat_minor": 5
}
